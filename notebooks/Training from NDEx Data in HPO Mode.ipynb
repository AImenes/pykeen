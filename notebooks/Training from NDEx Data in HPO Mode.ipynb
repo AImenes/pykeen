{
 "cells": [
  {
   "cell_type": "code",
   "execution_count": 1,
   "metadata": {},
   "outputs": [],
   "source": [
    "import logging\n",
    "import os\n",
    "import sys\n",
    "import time\n",
    "\n",
    "import pykeen"
   ]
  },
  {
   "cell_type": "code",
   "execution_count": 2,
   "metadata": {},
   "outputs": [],
   "source": [
    "logging.basicConfig(level=logging.INFO)\n",
    "logging.getLogger('pykeen').setLevel(logging.INFO)"
   ]
  },
  {
   "cell_type": "code",
   "execution_count": 3,
   "metadata": {},
   "outputs": [
    {
     "name": "stdout",
     "output_type": "stream",
     "text": [
      "3.7.0 (default, Jul 23 2018, 20:22:55) \n",
      "[Clang 9.1.0 (clang-902.0.39.2)]\n"
     ]
    }
   ],
   "source": [
    "print(sys.version)"
   ]
  },
  {
   "cell_type": "code",
   "execution_count": 4,
   "metadata": {},
   "outputs": [
    {
     "name": "stdout",
     "output_type": "stream",
     "text": [
      "Tue Nov 20 17:28:13 2018\n"
     ]
    }
   ],
   "source": [
    "print(time.asctime())"
   ]
  },
  {
   "cell_type": "code",
   "execution_count": 5,
   "metadata": {},
   "outputs": [
    {
     "name": "stdout",
     "output_type": "stream",
     "text": [
      "0.0.13-dev\n"
     ]
    }
   ],
   "source": [
    "print(pykeen.get_version())"
   ]
  },
  {
   "cell_type": "code",
   "execution_count": 6,
   "metadata": {},
   "outputs": [],
   "source": [
    "output_directory = os.path.join(\n",
    "    os.path.expanduser('~'), \n",
    "    'Desktop', \n",
    "    'pykeen_test'\n",
    ")"
   ]
  },
  {
   "cell_type": "code",
   "execution_count": 7,
   "metadata": {},
   "outputs": [
    {
     "name": "stderr",
     "output_type": "stream",
     "text": [
      "INFO:pykeen.utilities.pipeline:downloading b0d987cb-1e6b-11e8-b939-0ac135e8bacf from ndex\n",
      "/Users/cthoyt/.virtualenvs/hbp/lib/python3.7/site-packages/torch/nn/functional.py:52: UserWarning: size_average and reduce args will be deprecated, please use reduction='elementwise_mean' instead.\n",
      "  warnings.warn(warning.format(ret))\n",
      "Training the model (epochs): 100%|██████████| 25/25 [00:17<00:00,  1.27it/s]\n",
      "Training the model (epochs): 100%|██████████| 25/25 [00:14<00:00,  1.61it/s]\n",
      "Training the model (epochs): 100%|██████████| 25/25 [00:16<00:00,  1.71it/s]\n",
      "Training the model (epochs): 100%|██████████| 25/25 [00:14<00:00,  1.76it/s]\n",
      "Training the model (epochs): 100%|██████████| 25/25 [00:14<00:00,  1.73it/s]\n",
      "Training the model (epochs): 100%|██████████| 25/25 [00:14<00:00,  1.56it/s]\n",
      "Training the model (epochs): 100%|██████████| 25/25 [00:15<00:00,  1.75it/s]\n",
      "Training the model (epochs): 100%|██████████| 25/25 [00:14<00:00,  1.76it/s]\n",
      "Training the model (epochs): 100%|██████████| 25/25 [00:14<00:00,  1.78it/s]\n",
      "Training the model (epochs): 100%|██████████| 25/25 [00:14<00:00,  1.73it/s]\n"
     ]
    }
   ],
   "source": [
    "config = dict(\n",
    "    # Use Signor (see: http://www.ndexbio.org/#/network/b0d987cb-1e6b-11e8-b939-0ac135e8bacf)\n",
    "    training_set_path           = 'ndex:b0d987cb-1e6b-11e8-b939-0ac135e8bacf',\n",
    "    random_seed                 = 0,\n",
    "    hpo_mode                    = True,\n",
    "    maximum_number_of_hpo_iters = 10,\n",
    "    kg_embedding_model_name     = 'TransE',\n",
    "    embedding_dim               = 10,\n",
    "    normalization_of_entities   = 2,  # corresponds to L2\n",
    "    scoring_function            = 1,  # corresponds to L1\n",
    "    margin_loss                 = 8,\n",
    "    learning_rate               = 0.01,\n",
    "    num_epochs                  = 25,  # 1000 is better for real\n",
    "    batch_size                  = 32,\n",
    ")\n",
    "\n",
    "pykeen.run(\n",
    "    config=config,\n",
    "    output_directory=output_directory,\n",
    ")"
   ]
  }
 ],
 "metadata": {
  "kernelspec": {
   "display_name": "Python 3",
   "language": "python",
   "name": "python3"
  },
  "language_info": {
   "codemirror_mode": {
    "name": "ipython",
    "version": 3
   },
   "file_extension": ".py",
   "mimetype": "text/x-python",
   "name": "python",
   "nbconvert_exporter": "python",
   "pygments_lexer": "ipython3",
   "version": "3.7.0"
  }
 },
 "nbformat": 4,
 "nbformat_minor": 2
}
