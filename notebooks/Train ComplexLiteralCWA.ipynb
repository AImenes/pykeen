{
 "cells": [
  {
   "cell_type": "code",
   "execution_count": 1,
   "metadata": {},
   "outputs": [],
   "source": [
    "from poem.instance_creation_factories.triples_numeric_literals_factory import TriplesNumericLiteralsFactory\n",
    "from poem.models.multimodal.complex_literal_cwa import ComplexLiteralCWA\n",
    "from torch import optim\n",
    "import numpy as np\n",
    "from poem.training_loops.cwa import CWATrainingLoop"
   ]
  },
  {
   "cell_type": "markdown",
   "metadata": {},
   "source": [
    "**Step 1: Create insances**"
   ]
  },
  {
   "cell_type": "code",
   "execution_count": 2,
   "metadata": {},
   "outputs": [],
   "source": [
    "path_to_training_data = '../tests/resources/test.txt'\n",
    "path_to_literals = '../tests/resources/numerical_literals.txt'"
   ]
  },
  {
   "cell_type": "code",
   "execution_count": 3,
   "metadata": {},
   "outputs": [],
   "source": [
    "factory = TriplesNumericLiteralsFactory(path_to_triples=path_to_training_data,\n",
    "                                        path_to_numeric_triples=path_to_literals)"
   ]
  },
  {
   "cell_type": "markdown",
   "metadata": {},
   "source": [
    "**Step 2: Configure KGE model**"
   ]
  },
  {
   "cell_type": "code",
   "execution_count": 4,
   "metadata": {},
   "outputs": [],
   "source": [
    "kge_model = ComplexLiteralCWA(triples_factory=factory,\n",
    "                              embedding_dim=200,\n",
    "                              input_dropout=0.2)"
   ]
  },
  {
   "cell_type": "markdown",
   "metadata": {},
   "source": [
    "**Step 3: Configure training loop**"
   ]
  },
  {
   "cell_type": "code",
   "execution_count": 5,
   "metadata": {},
   "outputs": [],
   "source": [
    "optimizer = optim.Adam(params=kge_model.get_grad_params())\n",
    "cwa_training_loop = CWATrainingLoop(model=kge_model, optimizer=optimizer)"
   ]
  },
  {
   "cell_type": "markdown",
   "metadata": {},
   "source": [
    "**Step 4: Train KGE model**"
   ]
  },
  {
   "cell_type": "code",
   "execution_count": 6,
   "metadata": {},
   "outputs": [
    {
     "name": "stderr",
     "output_type": "stream",
     "text": [
      "100%|██████████| 59071/59071 [00:00<00:00, 449203.40it/s]\n",
      "Training epoch on cuda: 100%|██████████| 2/2 [00:08<00:00,  4.41s/it]\n"
     ]
    }
   ],
   "source": [
    "fitted_kge_model, losses = cwa_training_loop.train(num_epochs=2,\n",
    "                                                   batch_size=128)"
   ]
  },
  {
   "cell_type": "code",
   "execution_count": 7,
   "metadata": {},
   "outputs": [
    {
     "data": {
      "text/plain": [
       "[0.6625175035789762, 0.29908356610424075]"
      ]
     },
     "execution_count": 7,
     "metadata": {},
     "output_type": "execute_result"
    }
   ],
   "source": [
    "losses"
   ]
  },
  {
   "cell_type": "code",
   "execution_count": null,
   "metadata": {},
   "outputs": [],
   "source": []
  }
 ],
 "metadata": {
  "kernelspec": {
   "display_name": "Python 3",
   "language": "python",
   "name": "python3"
  },
  "language_info": {
   "codemirror_mode": {
    "name": "ipython",
    "version": 3
   },
   "file_extension": ".py",
   "mimetype": "text/x-python",
   "name": "python",
   "nbconvert_exporter": "python",
   "pygments_lexer": "ipython3",
   "version": "3.6.8"
  }
 },
 "nbformat": 4,
 "nbformat_minor": 2
}
