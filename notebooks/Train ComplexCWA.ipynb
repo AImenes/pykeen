{
 "cells": [
  {
   "cell_type": "code",
   "execution_count": 1,
   "metadata": {},
   "outputs": [],
   "source": [
    "from poem.instance_creation_factories.triples_factory import TriplesFactory\n",
    "from poem.models.unimodal.complex_cwa import ComplexCWA\n",
    "from torch import optim\n",
    "import numpy as np\n",
    "from poem.training.cwa import CWATrainingLoop\n",
    "import os\n",
    "import logging\n",
    "import sys\n",
    "logger = logging.getLogger()\n",
    "logger.setLevel(logging.DEBUG)\n",
    "handler = logging.StreamHandler(sys.stderr)\n",
    "os.environ['CUDA_VISIBLE_DEVICES'] = '6'"
   ]
  },
  {
   "cell_type": "markdown",
   "metadata": {},
   "source": [
    "**Step 1: Create instances**"
   ]
  },
  {
   "cell_type": "code",
   "execution_count": 2,
   "metadata": {},
   "outputs": [],
   "source": [
    "path_to_training_data = '../tests/resources/test.txt'"
   ]
  },
  {
   "cell_type": "code",
   "execution_count": 3,
   "metadata": {},
   "outputs": [],
   "source": [
    "import timeit"
   ]
  },
  {
   "cell_type": "code",
   "execution_count": 4,
   "metadata": {},
   "outputs": [],
   "source": [
    "factory = TriplesFactory(path=path_to_training_data)"
   ]
  },
  {
   "cell_type": "markdown",
   "metadata": {},
   "source": [
    "**Step 2: Configure KGE model**"
   ]
  },
  {
   "cell_type": "code",
   "execution_count": 5,
   "metadata": {},
   "outputs": [],
   "source": [
    "kge_model = ComplexCWA(triples_factory=factory,\n",
    "                       embedding_dim=200,\n",
    "                       input_dropout=0.2\n",
    "                      )"
   ]
  },
  {
   "cell_type": "markdown",
   "metadata": {},
   "source": [
    "**Step 3: Configure Training Loop**"
   ]
  },
  {
   "cell_type": "code",
   "execution_count": 6,
   "metadata": {},
   "outputs": [],
   "source": [
    "optimizer = optim.Adam(params=kge_model.get_grad_params())\n",
    "cwa_training_loop = CWATrainingLoop(model=kge_model, optimizer=optimizer)"
   ]
  },
  {
   "cell_type": "markdown",
   "metadata": {},
   "source": [
    "**Step 4: Train**"
   ]
  },
  {
   "cell_type": "code",
   "execution_count": 7,
   "metadata": {},
   "outputs": [
    {
     "name": "stderr",
     "output_type": "stream",
     "text": [
      "100%|██████████| 59071/59071 [00:00<00:00, 254735.37it/s]\n",
      "Training epoch on cuda: 100%|██████████| 5/5 [00:20<00:00,  4.17s/it]\n"
     ]
    }
   ],
   "source": [
    "losses = cwa_training_loop.train(num_epochs=5,\n",
    "                                 batch_size=256)"
   ]
  },
  {
   "cell_type": "code",
   "execution_count": 8,
   "metadata": {},
   "outputs": [
    {
     "data": {
      "text/plain": [
       "[0.6931468626471745,\n",
       " 0.6721640842141317,\n",
       " 0.2619327757018129,\n",
       " 0.059521213734526256,\n",
       " 0.026114851929317878]"
      ]
     },
     "execution_count": 8,
     "metadata": {},
     "output_type": "execute_result"
    }
   ],
   "source": [
    "losses"
   ]
  },
  {
   "cell_type": "code",
   "execution_count": 9,
   "metadata": {},
   "outputs": [],
   "source": [
    "from poem.evaluation import RankBasedEvaluator"
   ]
  },
  {
   "cell_type": "markdown",
   "metadata": {},
   "source": [
    "### Evaluation without filtering triples"
   ]
  },
  {
   "cell_type": "code",
   "execution_count": 10,
   "metadata": {},
   "outputs": [],
   "source": [
    "evaluator = RankBasedEvaluator(kge_model, filter_neg_triples=False)"
   ]
  },
  {
   "cell_type": "code",
   "execution_count": 11,
   "metadata": {},
   "outputs": [],
   "source": [
    "test_triples = factory.map_triples_to_id(path_to_triples=path_to_training_data)"
   ]
  },
  {
   "cell_type": "code",
   "execution_count": 12,
   "metadata": {},
   "outputs": [
    {
     "name": "stderr",
     "output_type": "stream",
     "text": [
      "⚡️ Evaluating triples : 100%|██████████| 59.1k/59.1k [00:00<00:00, 75.7ktriple(s)/s]\n"
     ]
    },
    {
     "data": {
      "text/plain": [
       "MetricResults(mean_rank=5184.070956983968, mean_reciprocal_rank=9.31082934096257e-05, adjusted_mean_rank=0.7632052302360535, adjusted_mean_reciprocal_rank=5.181576728820801, hits_at_k={1: 9.31082934096257e-05, 3: 0.00017775219650928545, 5: 0.0002793248802288771, 10: 0.00060943610231755})"
      ]
     },
     "execution_count": 12,
     "metadata": {},
     "output_type": "execute_result"
    }
   ],
   "source": [
    "evaluator.evaluate(test_triples, batch_size=4096)"
   ]
  },
  {
   "cell_type": "markdown",
   "metadata": {},
   "source": [
    "### Evaluation with filtering triples"
   ]
  },
  {
   "cell_type": "code",
   "execution_count": 13,
   "metadata": {},
   "outputs": [],
   "source": [
    "evaluator = RankBasedEvaluator(kge_model, filter_neg_triples=True)"
   ]
  },
  {
   "cell_type": "code",
   "execution_count": 14,
   "metadata": {},
   "outputs": [],
   "source": [
    "test_triples = factory.map_triples_to_id(path_to_triples=path_to_training_data)"
   ]
  },
  {
   "cell_type": "code",
   "execution_count": 15,
   "metadata": {},
   "outputs": [
    {
     "name": "stderr",
     "output_type": "stream",
     "text": [
      "⚡️ Evaluating triples : 100%|██████████| 59.1k/59.1k [00:05<00:00, 10.1ktriple(s)/s]\n"
     ]
    },
    {
     "data": {
      "text/plain": [
       "MetricResults(mean_rank=5175.177125831627, mean_reciprocal_rank=9.31082934096257e-05, adjusted_mean_rank=0.7618958950042725, adjusted_mean_reciprocal_rank=5.194695472717285, hits_at_k={1: 9.31082934096257e-05, 3: 0.00017775219650928545, 5: 0.0002793248802288771, 10: 0.00060943610231755})"
      ]
     },
     "execution_count": 15,
     "metadata": {},
     "output_type": "execute_result"
    }
   ],
   "source": [
    "# Since filtering the triples requires to load all triples into memory, the batch size has to be reduced.\n",
    "evaluator.evaluate(test_triples, batch_size=1024)"
   ]
  }
 ],
 "metadata": {
  "kernelspec": {
   "display_name": "Python 3",
   "language": "python",
   "name": "python3"
  },
  "language_info": {
   "codemirror_mode": {
    "name": "ipython",
    "version": 3
   },
   "file_extension": ".py",
   "mimetype": "text/x-python",
   "name": "python",
   "nbconvert_exporter": "python",
   "pygments_lexer": "ipython3",
   "version": "3.6.8"
  }
 },
 "nbformat": 4,
 "nbformat_minor": 2
}
