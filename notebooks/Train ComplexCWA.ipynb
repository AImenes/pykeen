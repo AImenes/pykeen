{
 "cells": [
  {
   "cell_type": "code",
   "execution_count": 1,
   "metadata": {},
   "outputs": [],
   "source": [
    "from poem.constants import EMBEDDING_DIM, NUM_ENTITIES, NUM_RELATIONS, INPUT_DROPOUT\n",
    "from poem.instance_creation_factories.triples_factory import TriplesFactory\n",
    "from poem.models.unimodal.complex_cwa import ComplexCWA\n",
    "from torch import optim\n",
    "import numpy as np\n",
    "from poem.training_loops.cwa import CWATrainingLoop\n",
    "import os\n",
    "os.environ['CUDA_VISIBLE_DEVICES'] = '1'"
   ]
  },
  {
   "cell_type": "markdown",
   "metadata": {},
   "source": [
    "**Step 1: Create instances**"
   ]
  },
  {
   "cell_type": "code",
   "execution_count": 2,
   "metadata": {},
   "outputs": [],
   "source": [
    "path_to_training_data = '../tests/resources/test.txt'"
   ]
  },
  {
   "cell_type": "code",
   "execution_count": 3,
   "metadata": {},
   "outputs": [],
   "source": [
    "import timeit"
   ]
  },
  {
   "cell_type": "code",
   "execution_count": 4,
   "metadata": {},
   "outputs": [],
   "source": [
    "factory = TriplesFactory(path_to_triples=path_to_training_data)"
   ]
  },
  {
   "cell_type": "markdown",
   "metadata": {},
   "source": [
    "**Step 2: Configure KGE model**"
   ]
  },
  {
   "cell_type": "code",
   "execution_count": 5,
   "metadata": {},
   "outputs": [],
   "source": [
    "kge_model = ComplexCWA(triples_factory=factory,\n",
    "                       embedding_dim=200,\n",
    "                       input_dropout=0.2\n",
    "                      )"
   ]
  },
  {
   "cell_type": "markdown",
   "metadata": {},
   "source": [
    "**Step 3: Configure Training Loop**"
   ]
  },
  {
   "cell_type": "code",
   "execution_count": 6,
   "metadata": {},
   "outputs": [],
   "source": [
    "optimizer = optim.Adam(params=kge_model.get_grad_params())\n",
    "cwa_training_loop = CWATrainingLoop(model=kge_model, optimizer=optimizer)"
   ]
  },
  {
   "cell_type": "markdown",
   "metadata": {},
   "source": [
    "**Step 4: Train**"
   ]
  },
  {
   "cell_type": "code",
   "execution_count": 7,
   "metadata": {},
   "outputs": [
    {
     "name": "stderr",
     "output_type": "stream",
     "text": [
      "100%|██████████| 59071/59071 [00:00<00:00, 232880.00it/s]\n",
      "Training epoch on cuda: 100%|██████████| 5/5 [00:22<00:00,  4.45s/it]\n"
     ]
    }
   ],
   "source": [
    "fitted_kge_model, losses = cwa_training_loop.train(num_epochs=5,\n",
    "                                                   batch_size=256)"
   ]
  },
  {
   "cell_type": "code",
   "execution_count": 8,
   "metadata": {},
   "outputs": [
    {
     "data": {
      "text/plain": [
       "[0.6931468652242141,\n",
       " 0.6781851650781674,\n",
       " 0.28638018667510745,\n",
       " 0.061782239563497994,\n",
       " 0.02657843512753107]"
      ]
     },
     "execution_count": 8,
     "metadata": {},
     "output_type": "execute_result"
    }
   ],
   "source": [
    "losses"
   ]
  },
  {
   "cell_type": "code",
   "execution_count": null,
   "metadata": {},
   "outputs": [],
   "source": [
    "from poem.evaluation import RankBasedEvaluator"
   ]
  },
  {
   "cell_type": "code",
   "execution_count": null,
   "metadata": {},
   "outputs": [],
   "source": [
    "evaluator = RankBasedEvaluator(fitted_kge_model)"
   ]
  },
  {
   "cell_type": "code",
   "execution_count": null,
   "metadata": {},
   "outputs": [],
   "source": [
    "test_triples = factory.map_triples_to_id(path_to_triples=path_to_training_data)"
   ]
  },
  {
   "cell_type": "code",
   "execution_count": null,
   "metadata": {},
   "outputs": [
    {
     "name": "stderr",
     "output_type": "stream",
     "text": [
      "corrupting triples:   0%|          | 81/59071 [05:18<63:53:28,  3.90s/it]"
     ]
    }
   ],
   "source": [
    "evaluator.evaluate(test_triples)"
   ]
  },
  {
   "cell_type": "code",
   "execution_count": null,
   "metadata": {},
   "outputs": [],
   "source": []
  }
 ],
 "metadata": {
  "kernelspec": {
   "display_name": "Python 3",
   "language": "python",
   "name": "python3"
  },
  "language_info": {
   "codemirror_mode": {
    "name": "ipython",
    "version": 3
   },
   "file_extension": ".py",
   "mimetype": "text/x-python",
   "name": "python",
   "nbconvert_exporter": "python",
   "pygments_lexer": "ipython3",
   "version": "3.6.8"
  }
 },
 "nbformat": 4,
 "nbformat_minor": 2
}
