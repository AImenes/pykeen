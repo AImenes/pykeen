{
 "cells": [
  {
   "cell_type": "code",
   "execution_count": 2,
   "metadata": {},
   "outputs": [],
   "source": [
    "from poem.constants import EMBEDDING_DIM, NUM_ENTITIES, NUM_RELATIONS, INPUT_DROPOUT\n",
    "from poem.instance_creation_factories.triples_factory import TriplesFactory\n",
    "from poem.kge_models.unimodal_kge_models.complex_cwa import ComplexCWA\n",
    "from poem.preprocessing.triples_preprocessing_utils.basic_triple_utils import create_entity_and_relation_mappings, \\\n",
    "    load_triples\n",
    "from torch import optim\n",
    "import numpy as np\n",
    "from poem.training_loops.cwa_training_loop import CWATrainingLoop"
   ]
  },
  {
   "cell_type": "markdown",
   "metadata": {},
   "source": [
    "**Step 1: Create instances**"
   ]
  },
  {
   "cell_type": "code",
   "execution_count": 12,
   "metadata": {},
   "outputs": [],
   "source": [
    "path_to_training_data = '../tests/resources/test.txt'"
   ]
  },
  {
   "cell_type": "code",
   "execution_count": 14,
   "metadata": {},
   "outputs": [],
   "source": [
    "training_triples = load_triples(path=path_to_training_data)\n",
    "entity_to_id, relation_to_id = create_entity_and_relation_mappings(triples=training_triples)\n",
    "factory = TriplesFactory(entity_to_id=entity_to_id, relation_to_id=relation_to_id)\n",
    "instances = factory.create_cwa_instances(triples=training_triples)"
   ]
  },
  {
   "cell_type": "markdown",
   "metadata": {},
   "source": [
    "**Step 2: Configure KGE model**"
   ]
  },
  {
   "cell_type": "code",
   "execution_count": 18,
   "metadata": {},
   "outputs": [],
   "source": [
    "num_entities = len(entity_to_id)\n",
    "num_relations = len(relation_to_id)\n",
    "kge_model = ComplexCWA(num_entities=num_entities,\n",
    "                       num_relations=num_relations,\n",
    "                       embedding_dim=200,\n",
    "                       input_dropout=0.2\n",
    "                      )"
   ]
  },
  {
   "cell_type": "markdown",
   "metadata": {},
   "source": [
    "**Step 3: Configure Training Loop**"
   ]
  },
  {
   "cell_type": "code",
   "execution_count": 19,
   "metadata": {},
   "outputs": [],
   "source": [
    "parameters = filter(lambda p: p.requires_grad, kge_model.parameters())\n",
    "optimizer = optim.Adam(params=parameters)\n",
    "all_entities = np.array(list(entity_to_id.values()))\n",
    "cwa_training_loop = CWATrainingLoop(kge_model=kge_model, optimizer=optimizer, all_entities=all_entities)"
   ]
  },
  {
   "cell_type": "markdown",
   "metadata": {},
   "source": [
    "**Step 4: Train**"
   ]
  },
  {
   "cell_type": "code",
   "execution_count": 20,
   "metadata": {},
   "outputs": [
    {
     "name": "stderr",
     "output_type": "stream",
     "text": [
      "Training epoch: 100%|██████████| 5/5 [03:34<00:00, 42.68s/it]\n"
     ]
    }
   ],
   "source": [
    "fitted_kge_model, losses = cwa_training_loop.train(training_instances=instances,\n",
    "                                                   num_epochs=5,\n",
    "                                                   batch_size=256)"
   ]
  },
  {
   "cell_type": "code",
   "execution_count": 21,
   "metadata": {},
   "outputs": [
    {
     "data": {
      "text/plain": [
       "[0.7229566037160764,\n",
       " 0.6996402254101819,\n",
       " 0.3058661299764912,\n",
       " 0.07312749471104384,\n",
       " 0.03328783938829509]"
      ]
     },
     "execution_count": 21,
     "metadata": {},
     "output_type": "execute_result"
    }
   ],
   "source": [
    "losses"
   ]
  },
  {
   "cell_type": "code",
   "execution_count": null,
   "metadata": {},
   "outputs": [],
   "source": []
  }
 ],
 "metadata": {
  "kernelspec": {
   "display_name": "Python 3",
   "language": "python",
   "name": "python3"
  },
  "language_info": {
   "codemirror_mode": {
    "name": "ipython",
    "version": 3
   },
   "file_extension": ".py",
   "mimetype": "text/x-python",
   "name": "python",
   "nbconvert_exporter": "python",
   "pygments_lexer": "ipython3",
   "version": "3.7.3"
  }
 },
 "nbformat": 4,
 "nbformat_minor": 2
}
