{
 "cells": [
  {
   "cell_type": "code",
   "execution_count": 1,
   "metadata": {},
   "outputs": [],
   "source": [
    "import logging\n",
    "import os\n",
    "import sys\n",
    "import time\n",
    "\n",
    "import numpy as np\n",
    "import matplotlib.pyplot as plt\n",
    "import pykeen\n",
    "from pykeen.kge_models import TransE"
   ]
  },
  {
   "cell_type": "code",
   "execution_count": 2,
   "metadata": {},
   "outputs": [],
   "source": [
    "%matplotlib inline"
   ]
  },
  {
   "cell_type": "code",
   "execution_count": 3,
   "metadata": {},
   "outputs": [],
   "source": [
    "logging.basicConfig(level=logging.INFO)\n",
    "logging.getLogger('pykeen').setLevel(logging.INFO)"
   ]
  },
  {
   "cell_type": "code",
   "execution_count": 4,
   "metadata": {},
   "outputs": [
    {
     "name": "stdout",
     "output_type": "stream",
     "text": [
      "3.7.1 (default, Nov  6 2018, 18:45:35) \n",
      "[Clang 10.0.0 (clang-1000.11.45.5)]\n"
     ]
    }
   ],
   "source": [
    "print(sys.version)"
   ]
  },
  {
   "cell_type": "code",
   "execution_count": 5,
   "metadata": {},
   "outputs": [
    {
     "name": "stdout",
     "output_type": "stream",
     "text": [
      "Tue Apr  2 16:09:12 2019\n"
     ]
    }
   ],
   "source": [
    "print(time.asctime())"
   ]
  },
  {
   "cell_type": "code",
   "execution_count": 6,
   "metadata": {},
   "outputs": [
    {
     "name": "stdout",
     "output_type": "stream",
     "text": [
      "0.0.22\n"
     ]
    }
   ],
   "source": [
    "print(pykeen.get_version())"
   ]
  },
  {
   "cell_type": "markdown",
   "metadata": {},
   "source": [
    "Check which hyper-parameters are required by TransE:"
   ]
  },
  {
   "cell_type": "code",
   "execution_count": 7,
   "metadata": {},
   "outputs": [
    {
     "data": {
      "text/plain": [
       "['embedding_dim',\n",
       " 'margin_loss',\n",
       " 'learning_rate',\n",
       " 'scoring_function',\n",
       " 'normalization_of_entities']"
      ]
     },
     "execution_count": 7,
     "metadata": {},
     "output_type": "execute_result"
    }
   ],
   "source": [
    "TransE.hyper_params"
   ]
  },
  {
   "cell_type": "markdown",
   "metadata": {},
   "source": [
    "Define output directory:"
   ]
  },
  {
   "cell_type": "code",
   "execution_count": 8,
   "metadata": {},
   "outputs": [],
   "source": [
    "output_directory = os.path.join(\n",
    "    os.path.expanduser('~'), \n",
    "    'Desktop', \n",
    "    'pykeen_test'\n",
    ")"
   ]
  },
  {
   "cell_type": "markdown",
   "metadata": {},
   "source": [
    "Define hyper-parameters inclduing the evaluation information:\n",
    " * Define the hyper-parameter optimization mode: **HPO_mode**\n",
    " * Define for each hyper-parameter a list of values (single valued lists are possible)\n",
    " * Define the number of hyper-parameter optimization iterations: **maximum_number_of_hpo_iters**\n",
    " * Define the path to the test set (**test_set_path**) or define the ratio of the training set that should be used as test set (**test_set_ratio**)\n",
    " * Define whether you want to compute the metrics (mean rank and hits@k) in raw or in a filtered setting: **filter_negative_triples**"
   ]
  },
  {
   "cell_type": "code",
   "execution_count": 11,
   "metadata": {},
   "outputs": [],
   "source": [
    "config = dict(\n",
    "    training_set_path           = '../../data/rdf.nt',\n",
    "    test_set_path               = '../../data/rdf.nt', # Just for illustration, we use the training set also as test set\n",
    "    execution_mode              = 'HPO_mode', # Define hyper-parameter optimization mode\n",
    "    random_seed                 = 0,\n",
    "    kg_embedding_model_name     = 'TransE',\n",
    "    embedding_dim               = [10,20,50,100],\n",
    "    scoring_function            = [1,2],  \n",
    "    normalization_of_entities   = [2],  # corresponds to L2\n",
    "    margin_loss                 = [1,2,3,4,5,6,7,8,9,10],\n",
    "    learning_rate               = [0.1,0.01,0.001],\n",
    "    num_epochs                  = [50,100],  \n",
    "    batch_size                  = [32],\n",
    "    filter_negative_triples     = True,\n",
    "    maximum_number_of_hpo_iters = 50, # Define the number HPO iterations\n",
    "    preferred_device            = 'cpu'\n",
    ")"
   ]
  },
  {
   "cell_type": "markdown",
   "metadata": {},
   "source": [
    "Train and evaluate TransE:"
   ]
  },
  {
   "cell_type": "code",
   "execution_count": 12,
   "metadata": {},
   "outputs": [
    {
     "name": "stderr",
     "output_type": "stream",
     "text": [
      "HPO Iteration:   0%|          | 0/50 [00:00<?, ?it/s]/Users/mehdi/virtual_envs/pykeen_python_3_7/lib/python3.7/site-packages/torch/nn/functional.py:52: UserWarning: size_average and reduce args will be deprecated, please use reduction='elementwise_mean' instead.\n",
      "  warnings.warn(warning.format(ret))\n",
      "\n",
      "Training epoch:   0%|          | 0/100 [00:00<?, ?it/s]\u001b[A\n",
      "Training epoch:  15%|█▌        | 15/100 [00:00<00:00, 144.08it/s]\u001b[A\n",
      "Training epoch:  29%|██▉       | 29/100 [00:00<00:00, 141.59it/s]\u001b[A\n",
      "Training epoch:  42%|████▏     | 42/100 [00:00<00:00, 136.30it/s]\u001b[A\n",
      "Training epoch:  54%|█████▍    | 54/100 [00:00<00:00, 128.50it/s]\u001b[A\n",
      "Training epoch:  67%|██████▋   | 67/100 [00:00<00:00, 125.57it/s]\u001b[A\n",
      "Training epoch:  82%|████████▏ | 82/100 [00:00<00:00, 130.17it/s]\u001b[A\n",
      "Training epoch:  98%|█████████▊| 98/100 [00:00<00:00, 136.33it/s]\u001b[A\n",
      "                                                                 \u001b[AINFO:pykeen.utilities.evaluation_utils.metrics_computations:Evaluation took 0.09s seconds\n",
      "HPO Iteration:   2%|▏         | 1/50 [00:00<00:42,  1.16it/s]\n",
      "Training epoch:   0%|          | 0/50 [00:00<?, ?it/s]\u001b[A\n",
      "Training epoch:  34%|███▍      | 17/50 [00:00<00:00, 168.67it/s]\u001b[A\n",
      "Training epoch:  66%|██████▌   | 33/50 [00:00<00:00, 164.73it/s]\u001b[A\n",
      "Training epoch:  94%|█████████▍| 47/50 [00:00<00:00, 155.06it/s]\u001b[A\n",
      "                                                                \u001b[AINFO:pykeen.utilities.evaluation_utils.metrics_computations:Evaluation took 0.09s seconds\n",
      "HPO Iteration:   4%|▍         | 2/50 [00:01<00:35,  1.37it/s]\n",
      "Training epoch:   0%|          | 0/50 [00:00<?, ?it/s]\u001b[A\n",
      "Training epoch:  30%|███       | 15/50 [00:00<00:00, 144.82it/s]\u001b[A\n",
      "Training epoch:  50%|█████     | 25/50 [00:00<00:00, 126.50it/s]\u001b[A\n",
      "Training epoch:  70%|███████   | 35/50 [00:00<00:00, 113.82it/s]\u001b[A\n",
      "Training epoch:  94%|█████████▍| 47/50 [00:00<00:00, 114.85it/s]\u001b[A\n",
      "                                                                \u001b[AINFO:pykeen.utilities.evaluation_utils.metrics_computations:Evaluation took 0.14s seconds\n",
      "HPO Iteration:   6%|▌         | 3/50 [00:01<00:32,  1.43it/s]\n",
      "Training epoch:   0%|          | 0/50 [00:00<?, ?it/s]\u001b[A\n",
      "Training epoch:  32%|███▏      | 16/50 [00:00<00:00, 153.35it/s]\u001b[A\n",
      "Training epoch:  56%|█████▌    | 28/50 [00:00<00:00, 141.02it/s]\u001b[A\n",
      "Training epoch:  88%|████████▊ | 44/50 [00:00<00:00, 144.23it/s]\u001b[A\n",
      "                                                                \u001b[AINFO:pykeen.utilities.evaluation_utils.metrics_computations:Evaluation took 0.08s seconds\n",
      "HPO Iteration:   8%|▊         | 4/50 [00:02<00:28,  1.60it/s]\n",
      "Training epoch:   0%|          | 0/50 [00:00<?, ?it/s]\u001b[A\n",
      "Training epoch:  34%|███▍      | 17/50 [00:00<00:00, 163.76it/s]\u001b[A\n",
      "Training epoch:  62%|██████▏   | 31/50 [00:00<00:00, 155.81it/s]\u001b[A\n",
      "Training epoch:  90%|█████████ | 45/50 [00:00<00:00, 149.63it/s]\u001b[A\n",
      "                                                                \u001b[AINFO:pykeen.utilities.evaluation_utils.metrics_computations:Evaluation took 0.09s seconds\n",
      "HPO Iteration:  10%|█         | 5/50 [00:02<00:25,  1.75it/s]\n",
      "Training epoch:   0%|          | 0/50 [00:00<?, ?it/s]\u001b[A\n",
      "Training epoch:  28%|██▊       | 14/50 [00:00<00:00, 139.61it/s]\u001b[A\n",
      "Training epoch:  62%|██████▏   | 31/50 [00:00<00:00, 147.32it/s]\u001b[A\n",
      "Training epoch:  96%|█████████▌| 48/50 [00:00<00:00, 153.05it/s]\u001b[A\n",
      "                                                                \u001b[AINFO:pykeen.utilities.evaluation_utils.metrics_computations:Evaluation took 0.09s seconds\n",
      "HPO Iteration:  12%|█▏        | 6/50 [00:03<00:23,  1.90it/s]\n",
      "Training epoch:   0%|          | 0/100 [00:00<?, ?it/s]\u001b[A\n",
      "Training epoch:  14%|█▍        | 14/100 [00:00<00:00, 135.13it/s]\u001b[A\n",
      "Training epoch:  31%|███       | 31/100 [00:00<00:00, 142.29it/s]\u001b[A\n",
      "Training epoch:  44%|████▍     | 44/100 [00:00<00:00, 137.40it/s]\u001b[A\n",
      "Training epoch:  54%|█████▍    | 54/100 [00:00<00:00, 120.20it/s]\u001b[A\n",
      "Training epoch:  65%|██████▌   | 65/100 [00:00<00:00, 114.45it/s]\u001b[A\n",
      "Training epoch:  76%|███████▌  | 76/100 [00:00<00:00, 111.24it/s]\u001b[A\n",
      "Training epoch:  88%|████████▊ | 88/100 [00:00<00:00, 112.16it/s]\u001b[A\n",
      "                                                                 \u001b[AINFO:pykeen.utilities.evaluation_utils.metrics_computations:Evaluation took 0.10s seconds\n",
      "HPO Iteration:  14%|█▍        | 7/50 [00:04<00:27,  1.54it/s]\n",
      "Training epoch:   0%|          | 0/100 [00:00<?, ?it/s]\u001b[A\n",
      "Training epoch:  10%|█         | 10/100 [00:00<00:00, 95.74it/s]\u001b[A\n",
      "Training epoch:  25%|██▌       | 25/100 [00:00<00:00, 106.62it/s]\u001b[A\n",
      "Training epoch:  38%|███▊      | 38/100 [00:00<00:00, 111.86it/s]\u001b[A\n",
      "Training epoch:  48%|████▊     | 48/100 [00:00<00:00, 106.08it/s]\u001b[A\n",
      "Training epoch:  57%|█████▋    | 57/100 [00:00<00:00, 99.88it/s] \u001b[A\n",
      "Training epoch:  68%|██████▊   | 68/100 [00:00<00:00, 101.54it/s]\u001b[A\n",
      "Training epoch:  84%|████████▍ | 84/100 [00:00<00:00, 113.38it/s]\u001b[A\n",
      "Training epoch:  97%|█████████▋| 97/100 [00:00<00:00, 116.43it/s]\u001b[A\n",
      "                                                                 \u001b[AINFO:pykeen.utilities.evaluation_utils.metrics_computations:Evaluation took 0.11s seconds\n",
      "HPO Iteration:  16%|█▌        | 8/50 [00:05<00:31,  1.35it/s]\n",
      "Training epoch:   0%|          | 0/100 [00:00<?, ?it/s]\u001b[A\n",
      "Training epoch:  14%|█▍        | 14/100 [00:00<00:00, 137.19it/s]\u001b[A\n",
      "Training epoch:  32%|███▏      | 32/100 [00:00<00:00, 146.96it/s]\u001b[A\n",
      "Training epoch:  49%|████▉     | 49/100 [00:00<00:00, 153.13it/s]\u001b[A\n",
      "Training epoch:  67%|██████▋   | 67/100 [00:00<00:00, 157.98it/s]\u001b[A\n",
      "Training epoch:  82%|████████▏ | 82/100 [00:00<00:00, 154.93it/s]\u001b[A\n",
      "Training epoch:  97%|█████████▋| 97/100 [00:00<00:00, 152.60it/s]\u001b[A\n",
      "                                                                 \u001b[AINFO:pykeen.utilities.evaluation_utils.metrics_computations:Evaluation took 0.09s seconds\n",
      "HPO Iteration:  18%|█▊        | 9/50 [00:05<00:30,  1.34it/s]\n",
      "Training epoch:   0%|          | 0/100 [00:00<?, ?it/s]\u001b[A\n",
      "Training epoch:  18%|█▊        | 18/100 [00:00<00:00, 173.76it/s]\u001b[A\n",
      "Training epoch:  32%|███▏      | 32/100 [00:00<00:00, 161.02it/s]\u001b[A\n",
      "Training epoch:  45%|████▌     | 45/100 [00:00<00:00, 149.40it/s]\u001b[A\n",
      "Training epoch:  57%|█████▋    | 57/100 [00:00<00:00, 135.80it/s]\u001b[A\n",
      "Training epoch:  72%|███████▏  | 72/100 [00:00<00:00, 137.98it/s]\u001b[A\n",
      "Training epoch:  85%|████████▌ | 85/100 [00:00<00:00, 134.04it/s]\u001b[A\n",
      "                                                                 \u001b[AINFO:pykeen.utilities.evaluation_utils.metrics_computations:Evaluation took 0.08s seconds\n",
      "HPO Iteration:  20%|██        | 10/50 [00:06<00:30,  1.31it/s]\n",
      "Training epoch:   0%|          | 0/50 [00:00<?, ?it/s]\u001b[A\n",
      "Training epoch:  34%|███▍      | 17/50 [00:00<00:00, 163.22it/s]\u001b[A\n",
      "Training epoch:  70%|███████   | 35/50 [00:00<00:00, 167.31it/s]\u001b[A\n",
      "                                                                \u001b[AINFO:pykeen.utilities.evaluation_utils.metrics_computations:Evaluation took 0.08s seconds\n",
      "HPO Iteration:  22%|██▏       | 11/50 [00:07<00:25,  1.54it/s]\n",
      "Training epoch:   0%|          | 0/50 [00:00<?, ?it/s]\u001b[A\n",
      "Training epoch:  34%|███▍      | 17/50 [00:00<00:00, 164.81it/s]\u001b[A\n",
      "Training epoch:  66%|██████▌   | 33/50 [00:00<00:00, 163.02it/s]\u001b[A\n",
      "Training epoch:  98%|█████████▊| 49/50 [00:00<00:00, 161.27it/s]\u001b[A\n",
      "                                                                \u001b[AINFO:pykeen.utilities.evaluation_utils.metrics_computations:Evaluation took 0.08s seconds\n",
      "HPO Iteration:  24%|██▍       | 12/50 [00:07<00:21,  1.73it/s]\n",
      "Training epoch:   0%|          | 0/100 [00:00<?, ?it/s]\u001b[A\n",
      "Training epoch:  18%|█▊        | 18/100 [00:00<00:00, 177.67it/s]\u001b[A\n",
      "Training epoch:  36%|███▌      | 36/100 [00:00<00:00, 177.38it/s]\u001b[A\n",
      "Training epoch:  55%|█████▌    | 55/100 [00:00<00:00, 178.90it/s]\u001b[A\n",
      "Training epoch:  73%|███████▎  | 73/100 [00:00<00:00, 176.71it/s]\u001b[A\n",
      "Training epoch:  91%|█████████ | 91/100 [00:00<00:00, 176.51it/s]\u001b[A\n",
      "                                                                 \u001b[AINFO:pykeen.utilities.evaluation_utils.metrics_computations:Evaluation took 0.07s seconds\n",
      "HPO Iteration:  26%|██▌       | 13/50 [00:08<00:22,  1.67it/s]\n",
      "Training epoch:   0%|          | 0/50 [00:00<?, ?it/s]\u001b[A\n",
      "Training epoch:  30%|███       | 15/50 [00:00<00:00, 148.07it/s]\u001b[A\n"
     ]
    },
    {
     "name": "stderr",
     "output_type": "stream",
     "text": [
      "Training epoch:  60%|██████    | 30/50 [00:00<00:00, 148.56it/s]\u001b[A\n",
      "Training epoch:  86%|████████▌ | 43/50 [00:00<00:00, 139.78it/s]\u001b[A\n",
      "                                                                \u001b[AINFO:pykeen.utilities.evaluation_utils.metrics_computations:Evaluation took 0.08s seconds\n",
      "HPO Iteration:  28%|██▊       | 14/50 [00:08<00:19,  1.80it/s]\n",
      "Training epoch:   0%|          | 0/50 [00:00<?, ?it/s]\u001b[A\n",
      "Training epoch:  38%|███▊      | 19/50 [00:00<00:00, 179.76it/s]\u001b[A\n",
      "Training epoch:  66%|██████▌   | 33/50 [00:00<00:00, 162.21it/s]\u001b[A\n",
      "Training epoch:  96%|█████████▌| 48/50 [00:00<00:00, 154.29it/s]\u001b[A\n",
      "                                                                \u001b[AINFO:pykeen.utilities.evaluation_utils.metrics_computations:Evaluation took 0.09s seconds\n",
      "HPO Iteration:  30%|███       | 15/50 [00:09<00:18,  1.93it/s]\n",
      "Training epoch:   0%|          | 0/100 [00:00<?, ?it/s]\u001b[A\n",
      "Training epoch:  16%|█▌        | 16/100 [00:00<00:00, 151.71it/s]\u001b[A\n",
      "Training epoch:  30%|███       | 30/100 [00:00<00:00, 147.80it/s]\u001b[A\n",
      "Training epoch:  44%|████▍     | 44/100 [00:00<00:00, 144.60it/s]\u001b[A\n",
      "Training epoch:  58%|█████▊    | 58/100 [00:00<00:00, 142.34it/s]\u001b[A\n",
      "Training epoch:  75%|███████▌  | 75/100 [00:00<00:00, 148.53it/s]\u001b[A\n",
      "Training epoch:  93%|█████████▎| 93/100 [00:00<00:00, 155.33it/s]\u001b[A\n",
      "                                                                 \u001b[AINFO:pykeen.utilities.evaluation_utils.metrics_computations:Evaluation took 0.08s seconds\n",
      "HPO Iteration:  32%|███▏      | 16/50 [00:09<00:20,  1.69it/s]\n",
      "Training epoch:   0%|          | 0/100 [00:00<?, ?it/s]\u001b[A\n",
      "Training epoch:  16%|█▌        | 16/100 [00:00<00:00, 158.35it/s]\u001b[A\n",
      "Training epoch:  31%|███       | 31/100 [00:00<00:00, 155.63it/s]\u001b[A\n",
      "Training epoch:  46%|████▌     | 46/100 [00:00<00:00, 152.25it/s]\u001b[A\n",
      "Training epoch:  62%|██████▏   | 62/100 [00:00<00:00, 154.30it/s]\u001b[A\n",
      "Training epoch:  78%|███████▊  | 78/100 [00:00<00:00, 155.11it/s]\u001b[A\n",
      "Training epoch:  95%|█████████▌| 95/100 [00:00<00:00, 159.11it/s]\u001b[A\n",
      "                                                                 \u001b[AINFO:pykeen.utilities.evaluation_utils.metrics_computations:Evaluation took 0.08s seconds\n",
      "HPO Iteration:  34%|███▍      | 17/50 [00:10<00:20,  1.58it/s]\n",
      "Training epoch:   0%|          | 0/100 [00:00<?, ?it/s]\u001b[A\n",
      "Training epoch:  18%|█▊        | 18/100 [00:00<00:00, 177.67it/s]\u001b[A\n",
      "Training epoch:  34%|███▍      | 34/100 [00:00<00:00, 170.34it/s]\u001b[A\n",
      "Training epoch:  48%|████▊     | 48/100 [00:00<00:00, 159.40it/s]\u001b[A\n",
      "Training epoch:  62%|██████▏   | 62/100 [00:00<00:00, 150.72it/s]\u001b[A\n",
      "Training epoch:  80%|████████  | 80/100 [00:00<00:00, 156.88it/s]\u001b[A\n",
      "Training epoch:  97%|█████████▋| 97/100 [00:00<00:00, 160.41it/s]\u001b[A\n",
      "                                                                 \u001b[AINFO:pykeen.utilities.evaluation_utils.metrics_computations:Evaluation took 0.09s seconds\n",
      "HPO Iteration:  36%|███▌      | 18/50 [00:11<00:21,  1.51it/s]\n",
      "Training epoch:   0%|          | 0/50 [00:00<?, ?it/s]\u001b[A\n",
      "Training epoch:  36%|███▌      | 18/50 [00:00<00:00, 175.91it/s]\u001b[A\n",
      "Training epoch:  68%|██████▊   | 34/50 [00:00<00:00, 168.70it/s]\u001b[A\n",
      "                                                                \u001b[AINFO:pykeen.utilities.evaluation_utils.metrics_computations:Evaluation took 0.10s seconds\n",
      "HPO Iteration:  38%|███▊      | 19/50 [00:11<00:18,  1.70it/s]\n",
      "Training epoch:   0%|          | 0/50 [00:00<?, ?it/s]\u001b[A\n",
      "Training epoch:  30%|███       | 15/50 [00:00<00:00, 145.81it/s]\u001b[A\n",
      "Training epoch:  56%|█████▌    | 28/50 [00:00<00:00, 140.44it/s]\u001b[A\n",
      "Training epoch:  82%|████████▏ | 41/50 [00:00<00:00, 136.33it/s]\u001b[A\n",
      "                                                                \u001b[AINFO:pykeen.utilities.evaluation_utils.metrics_computations:Evaluation took 0.09s seconds\n",
      "HPO Iteration:  40%|████      | 20/50 [00:12<00:16,  1.80it/s]\n",
      "Training epoch:   0%|          | 0/50 [00:00<?, ?it/s]\u001b[A\n",
      "Training epoch:  28%|██▊       | 14/50 [00:00<00:00, 132.60it/s]\u001b[A\n",
      "Training epoch:  54%|█████▍    | 27/50 [00:00<00:00, 130.36it/s]\u001b[A\n",
      "Training epoch:  80%|████████  | 40/50 [00:00<00:00, 129.01it/s]\u001b[A\n",
      "                                                                \u001b[AINFO:pykeen.utilities.evaluation_utils.metrics_computations:Evaluation took 0.09s seconds\n",
      "HPO Iteration:  42%|████▏     | 21/50 [00:12<00:15,  1.87it/s]\n",
      "Training epoch:   0%|          | 0/100 [00:00<?, ?it/s]\u001b[A\n",
      "Training epoch:  18%|█▊        | 18/100 [00:00<00:00, 172.68it/s]\u001b[A\n",
      "Training epoch:  33%|███▎      | 33/100 [00:00<00:00, 164.92it/s]\u001b[A\n",
      "Training epoch:  48%|████▊     | 48/100 [00:00<00:00, 157.61it/s]\u001b[A\n",
      "Training epoch:  63%|██████▎   | 63/100 [00:00<00:00, 153.52it/s]\u001b[A\n",
      "Training epoch:  79%|███████▉  | 79/100 [00:00<00:00, 154.92it/s]\u001b[A\n",
      "Training epoch:  97%|█████████▋| 97/100 [00:00<00:00, 160.15it/s]\u001b[A\n",
      "                                                                 \u001b[AINFO:pykeen.utilities.evaluation_utils.metrics_computations:Evaluation took 0.08s seconds\n",
      "HPO Iteration:  44%|████▍     | 22/50 [00:13<00:16,  1.69it/s]\n",
      "Training epoch:   0%|          | 0/50 [00:00<?, ?it/s]\u001b[A\n",
      "Training epoch:  38%|███▊      | 19/50 [00:00<00:00, 181.49it/s]\u001b[A\n",
      "Training epoch:  74%|███████▍  | 37/50 [00:00<00:00, 178.81it/s]\u001b[A\n",
      "                                                                \u001b[AINFO:pykeen.utilities.evaluation_utils.metrics_computations:Evaluation took 0.08s seconds\n",
      "HPO Iteration:  46%|████▌     | 23/50 [00:13<00:14,  1.90it/s]\n",
      "Training epoch:   0%|          | 0/50 [00:00<?, ?it/s]\u001b[A\n",
      "Training epoch:  36%|███▌      | 18/50 [00:00<00:00, 179.40it/s]\u001b[A\n",
      "Training epoch:  74%|███████▍  | 37/50 [00:00<00:00, 181.21it/s]\u001b[A\n",
      "                                                                \u001b[AINFO:pykeen.utilities.evaluation_utils.metrics_computations:Evaluation took 0.07s seconds\n",
      "HPO Iteration:  48%|████▊     | 24/50 [00:14<00:12,  2.11it/s]\n",
      "Training epoch:   0%|          | 0/50 [00:00<?, ?it/s]\u001b[A\n",
      "Training epoch:  32%|███▏      | 16/50 [00:00<00:00, 159.45it/s]\u001b[A\n",
      "Training epoch:  66%|██████▌   | 33/50 [00:00<00:00, 162.16it/s]\u001b[A\n",
      "                                                                \u001b[AINFO:pykeen.utilities.evaluation_utils.metrics_computations:Evaluation took 0.08s seconds\n",
      "HPO Iteration:  50%|█████     | 25/50 [00:14<00:11,  2.23it/s]\n",
      "Training epoch:   0%|          | 0/50 [00:00<?, ?it/s]\u001b[A\n",
      "Training epoch:  36%|███▌      | 18/50 [00:00<00:00, 175.24it/s]\u001b[A\n",
      "Training epoch:  70%|███████   | 35/50 [00:00<00:00, 173.56it/s]\u001b[A\n",
      "                                                                \u001b[AINFO:pykeen.utilities.evaluation_utils.metrics_computations:Evaluation took 0.08s seconds\n",
      "HPO Iteration:  52%|█████▏    | 26/50 [00:14<00:10,  2.34it/s]\n",
      "Training epoch:   0%|          | 0/50 [00:00<?, ?it/s]\u001b[A\n",
      "Training epoch:  36%|███▌      | 18/50 [00:00<00:00, 178.77it/s]\u001b[A\n",
      "Training epoch:  72%|███████▏  | 36/50 [00:00<00:00, 177.58it/s]\u001b[A\n",
      "                                                                \u001b[AINFO:pykeen.utilities.evaluation_utils.metrics_computations:Evaluation took 0.08s seconds\n",
      "HPO Iteration:  54%|█████▍    | 27/50 [00:15<00:09,  2.42it/s]\n",
      "Training epoch:   0%|          | 0/100 [00:00<?, ?it/s]\u001b[A\n",
      "Training epoch:  18%|█▊        | 18/100 [00:00<00:00, 179.95it/s]\u001b[A\n",
      "Training epoch:  37%|███▋      | 37/100 [00:00<00:00, 181.65it/s]\u001b[A\n",
      "Training epoch:  54%|█████▍    | 54/100 [00:00<00:00, 176.32it/s]\u001b[A\n",
      "Training epoch:  70%|███████   | 70/100 [00:00<00:00, 168.53it/s]\u001b[A\n",
      "Training epoch:  88%|████████▊ | 88/100 [00:00<00:00, 170.75it/s]\u001b[A\n",
      "                                                                 \u001b[AINFO:pykeen.utilities.evaluation_utils.metrics_computations:Evaluation took 0.08s seconds\n",
      "HPO Iteration:  56%|█████▌    | 28/50 [00:15<00:10,  2.05it/s]\n",
      "Training epoch:   0%|          | 0/100 [00:00<?, ?it/s]\u001b[A\n",
      "Training epoch:  16%|█▌        | 16/100 [00:00<00:00, 158.60it/s]\u001b[A\n",
      "Training epoch:  32%|███▏      | 32/100 [00:00<00:00, 157.50it/s]\u001b[A\n",
      "Training epoch:  49%|████▉     | 49/100 [00:00<00:00, 158.47it/s]\u001b[A\n",
      "Training epoch:  64%|██████▍   | 64/100 [00:00<00:00, 155.21it/s]\u001b[A\n",
      "Training epoch:  78%|███████▊  | 78/100 [00:00<00:00, 147.70it/s]\u001b[A\n",
      "Training epoch:  91%|█████████ | 91/100 [00:00<00:00, 141.79it/s]\u001b[A\n"
     ]
    },
    {
     "name": "stderr",
     "output_type": "stream",
     "text": [
      "                                                                 \u001b[AINFO:pykeen.utilities.evaluation_utils.metrics_computations:Evaluation took 0.09s seconds\n",
      "HPO Iteration:  58%|█████▊    | 29/50 [00:16<00:12,  1.73it/s]\n",
      "Training epoch:   0%|          | 0/50 [00:00<?, ?it/s]\u001b[A\n",
      "Training epoch:  28%|██▊       | 14/50 [00:00<00:00, 139.77it/s]\u001b[A\n",
      "Training epoch:  58%|█████▊    | 29/50 [00:00<00:00, 139.78it/s]\u001b[A\n",
      "Training epoch:  88%|████████▊ | 44/50 [00:00<00:00, 142.04it/s]\u001b[A\n",
      "                                                                \u001b[AINFO:pykeen.utilities.evaluation_utils.metrics_computations:Evaluation took 0.08s seconds\n",
      "HPO Iteration:  60%|██████    | 30/50 [00:17<00:10,  1.86it/s]\n",
      "Training epoch:   0%|          | 0/50 [00:00<?, ?it/s]\u001b[A\n",
      "Training epoch:  40%|████      | 20/50 [00:00<00:00, 190.30it/s]\u001b[A\n",
      "Training epoch:  76%|███████▌  | 38/50 [00:00<00:00, 186.06it/s]\u001b[A\n",
      "                                                                \u001b[AINFO:pykeen.utilities.evaluation_utils.metrics_computations:Evaluation took 0.08s seconds\n",
      "HPO Iteration:  62%|██████▏   | 31/50 [00:17<00:09,  2.05it/s]\n",
      "Training epoch:   0%|          | 0/50 [00:00<?, ?it/s]\u001b[A\n",
      "Training epoch:  32%|███▏      | 16/50 [00:00<00:00, 158.54it/s]\u001b[A\n",
      "Training epoch:  64%|██████▍   | 32/50 [00:00<00:00, 156.44it/s]\u001b[A\n",
      "Training epoch:  96%|█████████▌| 48/50 [00:00<00:00, 155.48it/s]\u001b[A\n",
      "                                                                \u001b[AINFO:pykeen.utilities.evaluation_utils.metrics_computations:Evaluation took 0.10s seconds\n",
      "HPO Iteration:  64%|██████▍   | 32/50 [00:17<00:08,  2.12it/s]\n",
      "Training epoch:   0%|          | 0/100 [00:00<?, ?it/s]\u001b[A\n",
      "Training epoch:  16%|█▌        | 16/100 [00:00<00:00, 157.58it/s]\u001b[A\n",
      "Training epoch:  29%|██▉       | 29/100 [00:00<00:00, 145.58it/s]\u001b[A\n",
      "Training epoch:  43%|████▎     | 43/100 [00:00<00:00, 143.76it/s]\u001b[A\n",
      "Training epoch:  58%|█████▊    | 58/100 [00:00<00:00, 143.08it/s]\u001b[A\n",
      "Training epoch:  73%|███████▎  | 73/100 [00:00<00:00, 142.99it/s]\u001b[A\n",
      "Training epoch:  88%|████████▊ | 88/100 [00:00<00:00, 143.21it/s]\u001b[A\n",
      "                                                                 \u001b[AINFO:pykeen.utilities.evaluation_utils.metrics_computations:Evaluation took 0.09s seconds\n",
      "HPO Iteration:  66%|██████▌   | 33/50 [00:18<00:09,  1.75it/s]\n",
      "Training epoch:   0%|          | 0/50 [00:00<?, ?it/s]\u001b[A\n",
      "Training epoch:  28%|██▊       | 14/50 [00:00<00:00, 130.47it/s]\u001b[A\n",
      "Training epoch:  60%|██████    | 30/50 [00:00<00:00, 134.92it/s]\u001b[A\n",
      "Training epoch:  90%|█████████ | 45/50 [00:00<00:00, 137.91it/s]\u001b[A\n",
      "                                                                \u001b[AINFO:pykeen.utilities.evaluation_utils.metrics_computations:Evaluation took 0.09s seconds\n",
      "HPO Iteration:  68%|██████▊   | 34/50 [00:19<00:08,  1.86it/s]\n",
      "Training epoch:   0%|          | 0/50 [00:00<?, ?it/s]\u001b[A\n",
      "Training epoch:  26%|██▌       | 13/50 [00:00<00:00, 128.57it/s]\u001b[A\n",
      "Training epoch:  50%|█████     | 25/50 [00:00<00:00, 124.31it/s]\u001b[A\n",
      "Training epoch:  72%|███████▏  | 36/50 [00:00<00:00, 119.34it/s]\u001b[A\n",
      "Training epoch: 100%|██████████| 50/50 [00:00<00:00, 124.28it/s]\u001b[A\n",
      "                                                                \u001b[AINFO:pykeen.utilities.evaluation_utils.metrics_computations:Evaluation took 0.09s seconds\n",
      "HPO Iteration:  70%|███████   | 35/50 [00:19<00:07,  1.89it/s]\n",
      "Training epoch:   0%|          | 0/50 [00:00<?, ?it/s]\u001b[A\n",
      "Training epoch:  32%|███▏      | 16/50 [00:00<00:00, 156.84it/s]\u001b[A\n",
      "Training epoch:  68%|██████▊   | 34/50 [00:00<00:00, 163.02it/s]\u001b[A\n",
      "                                                                \u001b[AINFO:pykeen.utilities.evaluation_utils.metrics_computations:Evaluation took 0.08s seconds\n",
      "HPO Iteration:  72%|███████▏  | 36/50 [00:20<00:06,  2.04it/s]\n",
      "Training epoch:   0%|          | 0/100 [00:00<?, ?it/s]\u001b[A\n",
      "Training epoch:  16%|█▌        | 16/100 [00:00<00:00, 157.57it/s]\u001b[A\n",
      "Training epoch:  33%|███▎      | 33/100 [00:00<00:00, 159.02it/s]\u001b[A\n",
      "Training epoch:  50%|█████     | 50/100 [00:00<00:00, 160.59it/s]\u001b[A\n",
      "Training epoch:  67%|██████▋   | 67/100 [00:00<00:00, 161.79it/s]\u001b[A\n",
      "Training epoch:  83%|████████▎ | 83/100 [00:00<00:00, 158.93it/s]\u001b[A\n",
      "Training epoch:  99%|█████████▉| 99/100 [00:00<00:00, 157.22it/s]\u001b[A\n",
      "                                                                 \u001b[AINFO:pykeen.utilities.evaluation_utils.metrics_computations:Evaluation took 0.09s seconds\n",
      "HPO Iteration:  74%|███████▍  | 37/50 [00:20<00:07,  1.78it/s]\n",
      "Training epoch:   0%|          | 0/50 [00:00<?, ?it/s]\u001b[A\n",
      "Training epoch:  36%|███▌      | 18/50 [00:00<00:00, 172.67it/s]\u001b[A\n",
      "Training epoch:  68%|██████▊   | 34/50 [00:00<00:00, 167.74it/s]\u001b[A\n",
      "Training epoch:  90%|█████████ | 45/50 [00:00<00:00, 143.22it/s]\u001b[A\n",
      "                                                                \u001b[AINFO:pykeen.utilities.evaluation_utils.metrics_computations:Evaluation took 0.08s seconds\n",
      "HPO Iteration:  76%|███████▌  | 38/50 [00:21<00:06,  1.91it/s]\n",
      "Training epoch:   0%|          | 0/50 [00:00<?, ?it/s]\u001b[A\n",
      "Training epoch:  34%|███▍      | 17/50 [00:00<00:00, 163.35it/s]\u001b[A\n",
      "Training epoch:  68%|██████▊   | 34/50 [00:00<00:00, 162.65it/s]\u001b[A\n",
      "Training epoch:  98%|█████████▊| 49/50 [00:00<00:00, 157.10it/s]\u001b[A\n",
      "                                                                \u001b[AINFO:pykeen.utilities.evaluation_utils.metrics_computations:Evaluation took 0.10s seconds\n",
      "HPO Iteration:  78%|███████▊  | 39/50 [00:21<00:05,  2.02it/s]\n",
      "Training epoch:   0%|          | 0/100 [00:00<?, ?it/s]\u001b[A\n",
      "Training epoch:  15%|█▌        | 15/100 [00:00<00:00, 145.48it/s]\u001b[A\n",
      "Training epoch:  29%|██▉       | 29/100 [00:00<00:00, 143.36it/s]\u001b[A\n",
      "Training epoch:  46%|████▌     | 46/100 [00:00<00:00, 149.08it/s]\u001b[A\n",
      "Training epoch:  62%|██████▏   | 62/100 [00:00<00:00, 150.69it/s]\u001b[A\n",
      "Training epoch:  78%|███████▊  | 78/100 [00:00<00:00, 152.33it/s]\u001b[A\n",
      "Training epoch:  95%|█████████▌| 95/100 [00:00<00:00, 156.68it/s]\u001b[A\n",
      "                                                                 \u001b[AINFO:pykeen.utilities.evaluation_utils.metrics_computations:Evaluation took 0.08s seconds\n",
      "HPO Iteration:  80%|████████  | 40/50 [00:22<00:05,  1.75it/s]\n",
      "Training epoch:   0%|          | 0/50 [00:00<?, ?it/s]\u001b[A\n",
      "Training epoch:  36%|███▌      | 18/50 [00:00<00:00, 173.76it/s]\u001b[A\n",
      "Training epoch:  74%|███████▍  | 37/50 [00:00<00:00, 176.14it/s]\u001b[A\n",
      "                                                                \u001b[AINFO:pykeen.utilities.evaluation_utils.metrics_computations:Evaluation took 0.07s seconds\n",
      "HPO Iteration:  82%|████████▏ | 41/50 [00:22<00:04,  1.97it/s]\n",
      "Training epoch:   0%|          | 0/50 [00:00<?, ?it/s]\u001b[A\n",
      "Training epoch:  36%|███▌      | 18/50 [00:00<00:00, 178.85it/s]\u001b[A\n",
      "Training epoch:  74%|███████▍  | 37/50 [00:00<00:00, 180.06it/s]\u001b[A\n",
      "                                                                \u001b[AINFO:pykeen.utilities.evaluation_utils.metrics_computations:Evaluation took 0.07s seconds\n",
      "HPO Iteration:  84%|████████▍ | 42/50 [00:23<00:03,  2.15it/s]\n",
      "Training epoch:   0%|          | 0/50 [00:00<?, ?it/s]\u001b[A\n",
      "Training epoch:  36%|███▌      | 18/50 [00:00<00:00, 176.83it/s]\u001b[A\n",
      "Training epoch:  72%|███████▏  | 36/50 [00:00<00:00, 177.40it/s]\u001b[A\n",
      "                                                                \u001b[AINFO:pykeen.utilities.evaluation_utils.metrics_computations:Evaluation took 0.07s seconds\n",
      "HPO Iteration:  86%|████████▌ | 43/50 [00:23<00:03,  2.29it/s]\n",
      "Training epoch:   0%|          | 0/50 [00:00<?, ?it/s]\u001b[A\n",
      "Training epoch:  34%|███▍      | 17/50 [00:00<00:00, 168.40it/s]\u001b[A\n",
      "Training epoch:  68%|██████▊   | 34/50 [00:00<00:00, 167.59it/s]\u001b[A\n",
      "                                                                \u001b[AINFO:pykeen.utilities.evaluation_utils.metrics_computations:Evaluation took 0.08s seconds\n",
      "HPO Iteration:  88%|████████▊ | 44/50 [00:23<00:02,  2.38it/s]\n",
      "Training epoch:   0%|          | 0/50 [00:00<?, ?it/s]\u001b[A\n",
      "Training epoch:  38%|███▊      | 19/50 [00:00<00:00, 183.54it/s]\u001b[A\n",
      "Training epoch:  76%|███████▌  | 38/50 [00:00<00:00, 184.10it/s]\u001b[A\n",
      "                                                                \u001b[AINFO:pykeen.utilities.evaluation_utils.metrics_computations:Evaluation took 0.07s seconds\n",
      "HPO Iteration:  90%|█████████ | 45/50 [00:24<00:02,  2.50it/s]\n"
     ]
    },
    {
     "name": "stderr",
     "output_type": "stream",
     "text": [
      "Training epoch:   0%|          | 0/50 [00:00<?, ?it/s]\u001b[A\n",
      "Training epoch:  36%|███▌      | 18/50 [00:00<00:00, 174.74it/s]\u001b[A\n",
      "Training epoch:  72%|███████▏  | 36/50 [00:00<00:00, 174.52it/s]\u001b[A\n",
      "                                                                \u001b[AINFO:pykeen.utilities.evaluation_utils.metrics_computations:Evaluation took 0.08s seconds\n",
      "HPO Iteration:  92%|█████████▏| 46/50 [00:24<00:01,  2.54it/s]\n",
      "Training epoch:   0%|          | 0/100 [00:00<?, ?it/s]\u001b[A\n",
      "Training epoch:  18%|█▊        | 18/100 [00:00<00:00, 172.61it/s]\u001b[A\n",
      "Training epoch:  36%|███▌      | 36/100 [00:00<00:00, 174.54it/s]\u001b[A\n",
      "Training epoch:  55%|█████▌    | 55/100 [00:00<00:00, 176.82it/s]\u001b[A\n",
      "Training epoch:  73%|███████▎  | 73/100 [00:00<00:00, 177.74it/s]\u001b[A\n",
      "Training epoch:  91%|█████████ | 91/100 [00:00<00:00, 177.19it/s]\u001b[A\n",
      "                                                                 \u001b[AINFO:pykeen.utilities.evaluation_utils.metrics_computations:Evaluation took 0.08s seconds\n",
      "HPO Iteration:  94%|█████████▍| 47/50 [00:25<00:01,  2.12it/s]\n",
      "Training epoch:   0%|          | 0/50 [00:00<?, ?it/s]\u001b[A\n",
      "Training epoch:  40%|████      | 20/50 [00:00<00:00, 193.41it/s]\u001b[A\n",
      "Training epoch:  78%|███████▊  | 39/50 [00:00<00:00, 190.20it/s]\u001b[A\n",
      "                                                                \u001b[AINFO:pykeen.utilities.evaluation_utils.metrics_computations:Evaluation took 0.07s seconds\n",
      "HPO Iteration:  96%|█████████▌| 48/50 [00:25<00:00,  2.29it/s]\n",
      "Training epoch:   0%|          | 0/100 [00:00<?, ?it/s]\u001b[A\n",
      "Training epoch:  18%|█▊        | 18/100 [00:00<00:00, 174.87it/s]\u001b[A\n",
      "Training epoch:  36%|███▌      | 36/100 [00:00<00:00, 174.98it/s]\u001b[A\n",
      "Training epoch:  53%|█████▎    | 53/100 [00:00<00:00, 173.22it/s]\u001b[A\n",
      "Training epoch:  70%|███████   | 70/100 [00:00<00:00, 172.21it/s]\u001b[A\n",
      "Training epoch:  87%|████████▋ | 87/100 [00:00<00:00, 170.24it/s]\u001b[A\n",
      "                                                                 \u001b[AINFO:pykeen.utilities.evaluation_utils.metrics_computations:Evaluation took 0.08s seconds\n",
      "HPO Iteration:  98%|█████████▊| 49/50 [00:26<00:00,  1.97it/s]\n",
      "Training epoch:   0%|          | 0/100 [00:00<?, ?it/s]\u001b[A\n",
      "Training epoch:  18%|█▊        | 18/100 [00:00<00:00, 175.02it/s]\u001b[A\n",
      "Training epoch:  35%|███▌      | 35/100 [00:00<00:00, 171.15it/s]\u001b[A\n",
      "Training epoch:  52%|█████▏    | 52/100 [00:00<00:00, 168.96it/s]\u001b[A\n",
      "Training epoch:  69%|██████▉   | 69/100 [00:00<00:00, 168.89it/s]\u001b[A\n",
      "Training epoch:  85%|████████▌ | 85/100 [00:00<00:00, 163.50it/s]\u001b[A\n",
      "                                                                 \u001b[AINFO:pykeen.utilities.evaluation_utils.metrics_computations:Evaluation took 0.08s seconds\n",
      "HPO Iteration: 100%|██████████| 50/50 [00:27<00:00,  1.78it/s]\n"
     ]
    }
   ],
   "source": [
    "results = pykeen.run(\n",
    "    config=config,\n",
    "    output_directory=output_directory,\n",
    ")"
   ]
  },
  {
   "cell_type": "markdown",
   "metadata": {},
   "source": [
    "Check result entries:"
   ]
  },
  {
   "cell_type": "code",
   "execution_count": 14,
   "metadata": {},
   "outputs": [
    {
     "data": {
      "text/plain": [
       "odict_keys(['trained_model', 'losses', 'entity_to_embedding', 'relation_to_embedding', 'eval_summary', 'entity_to_id', 'relation_to_id', 'final_configuration'])"
      ]
     },
     "execution_count": 14,
     "metadata": {},
     "output_type": "execute_result"
    }
   ],
   "source": [
    "results.results.keys()"
   ]
  },
  {
   "cell_type": "markdown",
   "metadata": {},
   "source": [
    "Get the model configuration that lead to best results:"
   ]
  },
  {
   "cell_type": "code",
   "execution_count": 15,
   "metadata": {},
   "outputs": [
    {
     "data": {
      "text/plain": [
       "{'training_set_path': '../../data/rdf.nt',\n",
       " 'test_set_path': '../../data/rdf.nt',\n",
       " 'execution_mode': 'HPO_mode',\n",
       " 'random_seed': 0,\n",
       " 'kg_embedding_model_name': 'TransE',\n",
       " 'embedding_dim': 50,\n",
       " 'scoring_function': 1,\n",
       " 'normalization_of_entities': 2,\n",
       " 'margin_loss': 10,\n",
       " 'learning_rate': 0.1,\n",
       " 'num_epochs': 50,\n",
       " 'batch_size': 32,\n",
       " 'filter_negative_triples': True,\n",
       " 'maximum_number_of_hpo_iters': 50,\n",
       " 'preferred_device': 'cpu',\n",
       " 'num_entities': 89,\n",
       " 'num_relations': 24}"
      ]
     },
     "execution_count": 15,
     "metadata": {},
     "output_type": "execute_result"
    }
   ],
   "source": [
    "results.results['final_configuration']"
   ]
  },
  {
   "cell_type": "markdown",
   "metadata": {},
   "source": [
    "Access trained model:"
   ]
  },
  {
   "cell_type": "code",
   "execution_count": 16,
   "metadata": {},
   "outputs": [
    {
     "data": {
      "text/plain": [
       "TransE(\n",
       "  (criterion): MarginRankingLoss()\n",
       "  (entity_embeddings): Embedding(89, 50)\n",
       "  (relation_embeddings): Embedding(24, 50)\n",
       ")"
      ]
     },
     "execution_count": 16,
     "metadata": {},
     "output_type": "execute_result"
    }
   ],
   "source": [
    "results.results['trained_model']"
   ]
  },
  {
   "cell_type": "markdown",
   "metadata": {},
   "source": [
    "Visualize loss values:"
   ]
  },
  {
   "cell_type": "code",
   "execution_count": 17,
   "metadata": {},
   "outputs": [
    {
     "data": {
      "image/png": "[encoded data removed]",
      "text/plain": [
       "<Figure size 432x288 with 1 Axes>"
      ]
     },
     "metadata": {
      "needs_background": "light"
     },
     "output_type": "display_data"
    }
   ],
   "source": [
    "losses = results.results['losses']\n",
    "epochs = np.arange(len(losses))\n",
    "plt.title(r'Loss Per Epoch')\n",
    "plt.xlabel('epoch')\n",
    "plt.ylabel('loss')\n",
    "plt.plot(epochs, losses)\n",
    "plt.show()"
   ]
  },
  {
   "cell_type": "markdown",
   "metadata": {},
   "source": [
    "Get evaluation results:\n",
    " * Mean rank\n",
    " * Hits@k, k $\\in$ {1,3,5,10} "
   ]
  },
  {
   "cell_type": "code",
   "execution_count": 18,
   "metadata": {},
   "outputs": [
    {
     "data": {
      "text/plain": [
       "{'mean_rank': 1.7830188679245282,\n",
       " 'hits@k': {1: 0.7216981132075472,\n",
       "  3: 0.8301886792452831,\n",
       "  5: 0.8726415094339622,\n",
       "  10: 0.9198113207547169}}"
      ]
     },
     "execution_count": 18,
     "metadata": {},
     "output_type": "execute_result"
    }
   ],
   "source": [
    "results.results['eval_summary']"
   ]
  }
 ],
 "metadata": {
  "kernelspec": {
   "display_name": "Python 3",
   "language": "python",
   "name": "python3"
  },
  "language_info": {
   "codemirror_mode": {
    "name": "ipython",
    "version": 3
   },
   "file_extension": ".py",
   "mimetype": "text/x-python",
   "name": "python",
   "nbconvert_exporter": "python",
   "pygments_lexer": "ipython3",
   "version": "3.7.1"
  }
 },
 "nbformat": 4,
 "nbformat_minor": 2
}
