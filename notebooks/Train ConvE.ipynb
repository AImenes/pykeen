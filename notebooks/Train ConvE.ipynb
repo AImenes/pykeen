{
 "cells": [
  {
   "cell_type": "code",
   "execution_count": 1,
   "metadata": {},
   "outputs": [],
   "source": [
    "from poem.instance_creation_factories.triples_factory import TriplesFactory\n",
    "from poem.models.unimodal.conv_e import ConvE\n",
    "from torch import optim\n",
    "import numpy as np\n",
    "from poem.training.cwa import CWATrainingLoop\n",
    "import os\n",
    "os.environ['CUDA_VISIBLE_DEVICES'] = '5'"
   ]
  },
  {
   "cell_type": "markdown",
   "metadata": {},
   "source": [
    "**Step 1: Create instances**"
   ]
  },
  {
   "cell_type": "code",
   "execution_count": 2,
   "metadata": {},
   "outputs": [],
   "source": [
    "path_to_training_data = '../tests/resources/test.txt'"
   ]
  },
  {
   "cell_type": "code",
   "execution_count": 3,
   "metadata": {},
   "outputs": [],
   "source": [
    "# ConvE should always be used with inverse triples\n",
    "factory = TriplesFactory(path=path_to_training_data, create_inverse_triples=True)"
   ]
  },
  {
   "cell_type": "markdown",
   "metadata": {},
   "source": [
    "**Step 2: Configure KGE model**"
   ]
  },
  {
   "cell_type": "code",
   "execution_count": 4,
   "metadata": {},
   "outputs": [],
   "source": [
    "# For the new model\n",
    "config = dict(\n",
    "    embedding_dim       = 200,\n",
    "    input_channels      = 1,\n",
    "    output_channels     = 32,\n",
    "    embedding_height    = 10,\n",
    "    embedding_width     = 20,\n",
    "    kernel_height       = 3,\n",
    "    kernel_width        = 3,\n",
    "    input_dropout       = 0.2,\n",
    "    feature_map_dropout = 0.2,\n",
    "    output_dropout      = 0.3,\n",
    "    preferred_device    = 'gpu',\n",
    ")"
   ]
  },
  {
   "cell_type": "code",
   "execution_count": 5,
   "metadata": {},
   "outputs": [],
   "source": [
    "kge_model = ConvE(triples_factory=factory,\n",
    "                  **config\n",
    "                 )"
   ]
  },
  {
   "cell_type": "markdown",
   "metadata": {},
   "source": [
    "**Step 3: Configure Training Loop**"
   ]
  },
  {
   "cell_type": "code",
   "execution_count": 6,
   "metadata": {},
   "outputs": [],
   "source": [
    "optimizer = optim.Adam(params=kge_model.get_grad_params())\n",
    "cwa_training_loop = CWATrainingLoop(model=kge_model, optimizer=optimizer)"
   ]
  },
  {
   "cell_type": "markdown",
   "metadata": {},
   "source": [
    "**Step 4: Train**"
   ]
  },
  {
   "cell_type": "code",
   "execution_count": 7,
   "metadata": {},
   "outputs": [
    {
     "name": "stderr",
     "output_type": "stream",
     "text": [
      "100%|██████████| 118142/118142 [00:00<00:00, 247214.15it/s]\n",
      "Training epoch on cuda: 100%|██████████| 5/5 [00:52<00:00, 10.41s/it]\n"
     ]
    }
   ],
   "source": [
    "losses = cwa_training_loop.train(num_epochs=5,\n",
    "                                 batch_size=256)"
   ]
  },
  {
   "cell_type": "code",
   "execution_count": 8,
   "metadata": {},
   "outputs": [
    {
     "data": {
      "text/plain": [
       "[0.08639761942492256,\n",
       " 0.0033559632430117015,\n",
       " 0.001854307092430502,\n",
       " 0.0014784366678397835,\n",
       " 0.001321700629834906]"
      ]
     },
     "execution_count": 8,
     "metadata": {},
     "output_type": "execute_result"
    }
   ],
   "source": [
    "losses"
   ]
  },
  {
   "cell_type": "markdown",
   "metadata": {},
   "source": [
    "**Step 4: Evaluate the model**"
   ]
  },
  {
   "cell_type": "code",
   "execution_count": 9,
   "metadata": {},
   "outputs": [],
   "source": [
    "from poem.evaluation import RankBasedEvaluator"
   ]
  },
  {
   "cell_type": "code",
   "execution_count": 10,
   "metadata": {},
   "outputs": [],
   "source": [
    "evaluator = RankBasedEvaluator(kge_model, filter_neg_triples=False)"
   ]
  },
  {
   "cell_type": "code",
   "execution_count": 11,
   "metadata": {},
   "outputs": [],
   "source": [
    "test_triples = factory.map_triples_to_id(path_to_triples=path_to_training_data)"
   ]
  },
  {
   "cell_type": "code",
   "execution_count": 12,
   "metadata": {},
   "outputs": [
    {
     "name": "stderr",
     "output_type": "stream",
     "text": [
      "⚡️ Evaluating triples : 100%|██████████| 59.1k/59.1k [00:05<00:00, 9.20ktriple(s)/s]\n"
     ]
    },
    {
     "data": {
      "text/plain": [
       "MetricResults(mean_rank=3733.1487531953076, mean_reciprocal_rank=0.010182661542889066, adjusted_mean_rank=0.5495989322662354, adjusted_mean_reciprocal_rank=166.6231689453125, hits_at_k={1: 0.010182661542889066, 3: 0.021626517241963062, 5: 0.0346278207580708, 10: 0.05469689018300012})"
      ]
     },
     "execution_count": 12,
     "metadata": {},
     "output_type": "execute_result"
    }
   ],
   "source": [
    "evaluator.evaluate(test_triples, batch_size=8192)"
   ]
  },
  {
   "cell_type": "code",
   "execution_count": null,
   "metadata": {},
   "outputs": [],
   "source": []
  }
 ],
 "metadata": {
  "kernelspec": {
   "display_name": "Python 3",
   "language": "python",
   "name": "python3"
  },
  "language_info": {
   "codemirror_mode": {
    "name": "ipython",
    "version": 3
   },
   "file_extension": ".py",
   "mimetype": "text/x-python",
   "name": "python",
   "nbconvert_exporter": "python",
   "pygments_lexer": "ipython3",
   "version": "3.6.8"
  }
 },
 "nbformat": 4,
 "nbformat_minor": 2
}
