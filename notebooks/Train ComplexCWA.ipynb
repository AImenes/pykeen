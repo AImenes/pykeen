{
 "cells": [
  {
   "cell_type": "code",
   "execution_count": 1,
   "metadata": {},
   "outputs": [],
   "source": [
    "from poem.instance_creation_factories.triples_factory import TriplesFactory\n",
    "from poem.models.unimodal.complex_cwa import ComplexCWA\n",
    "from torch import optim\n",
    "import numpy as np\n",
    "from poem.training.cwa import CWATrainingLoop\n",
    "import os\n",
    "import logging\n",
    "import sys\n",
    "logger = logging.getLogger()\n",
    "logger.setLevel(logging.DEBUG)\n",
    "handler = logging.StreamHandler(sys.stderr)\n",
    "os.environ['CUDA_VISIBLE_DEVICES'] = '6'"
   ]
  },
  {
   "cell_type": "markdown",
   "metadata": {},
   "source": [
    "**Step 1: Create instances**"
   ]
  },
  {
   "cell_type": "code",
   "execution_count": 2,
   "metadata": {},
   "outputs": [],
   "source": [
    "path_to_training_data = '../tests/resources/test.txt'"
   ]
  },
  {
   "cell_type": "code",
   "execution_count": 3,
   "metadata": {},
   "outputs": [],
   "source": [
    "import timeit"
   ]
  },
  {
   "cell_type": "code",
   "execution_count": 4,
   "metadata": {},
   "outputs": [],
   "source": [
    "factory = TriplesFactory(path=path_to_training_data)"
   ]
  },
  {
   "cell_type": "markdown",
   "metadata": {},
   "source": [
    "**Step 2: Configure KGE model**"
   ]
  },
  {
   "cell_type": "code",
   "execution_count": 5,
   "metadata": {},
   "outputs": [],
   "source": [
    "kge_model = ComplexCWA(triples_factory=factory,\n",
    "                       embedding_dim=200,\n",
    "                       input_dropout=0.2\n",
    "                      )"
   ]
  },
  {
   "cell_type": "markdown",
   "metadata": {},
   "source": [
    "**Step 3: Configure Training Loop**"
   ]
  },
  {
   "cell_type": "code",
   "execution_count": 6,
   "metadata": {},
   "outputs": [],
   "source": [
    "optimizer = optim.Adam(params=kge_model.get_grad_params())\n",
    "cwa_training_loop = CWATrainingLoop(model=kge_model, optimizer=optimizer)"
   ]
  },
  {
   "cell_type": "markdown",
   "metadata": {},
   "source": [
    "**Step 4: Train**"
   ]
  },
  {
   "cell_type": "code",
   "execution_count": 7,
   "metadata": {},
   "outputs": [
    {
     "name": "stderr",
     "output_type": "stream",
     "text": [
      "100%|██████████| 59071/59071 [00:00<00:00, 219949.36it/s]\n",
      "Training epoch on cuda: 100%|██████████| 5/5 [00:19<00:00,  3.90s/it]\n"
     ]
    }
   ],
   "source": [
    "losses = cwa_training_loop.train(num_epochs=5,\n",
    "                                 batch_size=256)"
   ]
  },
  {
   "cell_type": "code",
   "execution_count": 8,
   "metadata": {},
   "outputs": [
    {
     "data": {
      "text/plain": [
       "[0.6931470672181946,\n",
       " 0.6795057056321299,\n",
       " 0.287819335218481,\n",
       " 0.06256443300240072,\n",
       " 0.0268778544551835]"
      ]
     },
     "execution_count": 8,
     "metadata": {},
     "output_type": "execute_result"
    }
   ],
   "source": [
    "losses"
   ]
  },
  {
   "cell_type": "code",
   "execution_count": 9,
   "metadata": {},
   "outputs": [],
   "source": [
    "from poem.evaluation import RankBasedEvaluator"
   ]
  },
  {
   "cell_type": "code",
   "execution_count": 10,
   "metadata": {},
   "outputs": [],
   "source": [
    "evaluator = RankBasedEvaluator(kge_model, filter_neg_triples=True)"
   ]
  },
  {
   "cell_type": "code",
   "execution_count": 11,
   "metadata": {},
   "outputs": [],
   "source": [
    "test_triples = factory.map_triples_to_id(path_to_triples=path_to_training_data)"
   ]
  },
  {
   "cell_type": "code",
   "execution_count": 12,
   "metadata": {},
   "outputs": [
    {
     "name": "stderr",
     "output_type": "stream",
     "text": [
      "Evaluating triples: 100%|██████████| 59071/59071 [03:26<00:00, 285.85it/s]\n"
     ]
    },
    {
     "data": {
      "text/plain": [
       "MetricResults(mean_rank=5262.496529599973, mean_reciprocal_rank=6.771512247972779e-05, adjusted_mean_rank=5262.496538064363, adjusted_mean_reciprocal_rank=0.0006810930470736689, hits_at_k={1: 6.771512247972779e-05, 3: 0.0001269658546494896, 5: 0.00026239609960894514, 10: 0.0005332565895278563})"
      ]
     },
     "execution_count": 12,
     "metadata": {},
     "output_type": "execute_result"
    }
   ],
   "source": [
    "evaluator.evaluate(test_triples)"
   ]
  },
  {
   "cell_type": "code",
   "execution_count": null,
   "metadata": {},
   "outputs": [],
   "source": []
  }
 ],
 "metadata": {
  "kernelspec": {
   "display_name": "Python 3",
   "language": "python",
   "name": "python3"
  },
  "language_info": {
   "codemirror_mode": {
    "name": "ipython",
    "version": 3
   },
   "file_extension": ".py",
   "mimetype": "text/x-python",
   "name": "python",
   "nbconvert_exporter": "python",
   "pygments_lexer": "ipython3",
   "version": "3.6.8"
  }
 },
 "nbformat": 4,
 "nbformat_minor": 2
}
