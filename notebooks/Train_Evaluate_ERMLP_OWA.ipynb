{
 "cells": [
  {
   "cell_type": "code",
   "execution_count": 8,
   "metadata": {},
   "outputs": [],
   "source": [
    "from poem.instance_creation_factories.triples_factory import TriplesFactory\n",
    "from poem.models.unimodal.ermlp import ERMLP\n",
    "from torch import optim\n",
    "import numpy as np\n",
    "from poem.training.owa import OWATrainingLoop\n",
    "import os\n",
    "import logging\n",
    "from poem.evaluation import RankBasedEvaluator\n",
    "import sys\n",
    "import timeit\n",
    "from torch import nn\n",
    "logger = logging.getLogger()\n",
    "logger.setLevel(logging.DEBUG)\n",
    "handler = logging.StreamHandler(sys.stderr)"
   ]
  },
  {
   "cell_type": "markdown",
   "metadata": {},
   "source": [
    "**Step 1: Create instances**"
   ]
  },
  {
   "cell_type": "code",
   "execution_count": 2,
   "metadata": {},
   "outputs": [],
   "source": [
    "path_to_training_data = '../tests/resources/test.txt'"
   ]
  },
  {
   "cell_type": "code",
   "execution_count": 3,
   "metadata": {},
   "outputs": [],
   "source": [
    "factory = TriplesFactory(path=path_to_training_data)"
   ]
  },
  {
   "cell_type": "markdown",
   "metadata": {},
   "source": [
    "**Step 2: Configure KGE model**"
   ]
  },
  {
   "cell_type": "code",
   "execution_count": 4,
   "metadata": {},
   "outputs": [],
   "source": [
    "kge_model = ERMLP(\n",
    "    triples_factory = factory,\n",
    "    embedding_dim = 50,\n",
    "    criterion = nn.MarginRankingLoss(margin=1., reduction='mean'),\n",
    "    random_seed = 2, \n",
    "    )"
   ]
  },
  {
   "cell_type": "markdown",
   "metadata": {},
   "source": [
    "**Step 3: Configure Training Loop**"
   ]
  },
  {
   "cell_type": "code",
   "execution_count": 5,
   "metadata": {},
   "outputs": [],
   "source": [
    "optimizer = optim.Adam(params=kge_model.get_grad_params())\n",
    "owa_training_loop = OWATrainingLoop(model=kge_model, optimizer=optimizer)"
   ]
  },
  {
   "cell_type": "markdown",
   "metadata": {},
   "source": [
    "**Step 4: Train**"
   ]
  },
  {
   "cell_type": "code",
   "execution_count": 6,
   "metadata": {},
   "outputs": [
    {
     "name": "stderr",
     "output_type": "stream",
     "text": [
      "Training epoch on cpu:  20%|██        | 1/5 [00:02<00:09,  2.38s/it]"
     ]
    },
    {
     "name": "stdout",
     "output_type": "stream",
     "text": [
      "Losses: [0.9411756521545025]\n"
     ]
    },
    {
     "name": "stderr",
     "output_type": "stream",
     "text": [
      "Training epoch on cpu:  40%|████      | 2/5 [00:04<00:07,  2.36s/it]"
     ]
    },
    {
     "name": "stdout",
     "output_type": "stream",
     "text": [
      "Losses: [0.9411756521545025, 0.8541601078817151]\n"
     ]
    },
    {
     "name": "stderr",
     "output_type": "stream",
     "text": [
      "Training epoch on cpu:  60%|██████    | 3/5 [00:07<00:04,  2.35s/it]"
     ]
    },
    {
     "name": "stdout",
     "output_type": "stream",
     "text": [
      "Losses: [0.9411756521545025, 0.8541601078817151, 0.794050917429715]\n"
     ]
    },
    {
     "name": "stderr",
     "output_type": "stream",
     "text": [
      "Training epoch on cpu:  80%|████████  | 4/5 [00:09<00:02,  2.41s/it]"
     ]
    },
    {
     "name": "stdout",
     "output_type": "stream",
     "text": [
      "Losses: [0.9411756521545025, 0.8541601078817151, 0.794050917429715, 0.740356265172695]\n"
     ]
    },
    {
     "name": "stderr",
     "output_type": "stream",
     "text": [
      "Training epoch on cpu: 100%|██████████| 5/5 [00:12<00:00,  2.53s/it]"
     ]
    },
    {
     "name": "stdout",
     "output_type": "stream",
     "text": [
      "Losses: [0.9411756521545025, 0.8541601078817151, 0.794050917429715, 0.740356265172695, 0.6980177377377447]\n"
     ]
    },
    {
     "name": "stderr",
     "output_type": "stream",
     "text": [
      "\n"
     ]
    }
   ],
   "source": [
    "losses = owa_training_loop.train(\n",
    "    num_epochs=5,\n",
    "    batch_size=256\n",
    ")"
   ]
  },
  {
   "cell_type": "code",
   "execution_count": 9,
   "metadata": {},
   "outputs": [],
   "source": [
    "evaluator = RankBasedEvaluator(kge_model, filter_neg_triples=True)"
   ]
  },
  {
   "cell_type": "code",
   "execution_count": 10,
   "metadata": {},
   "outputs": [],
   "source": [
    "test_triples = factory.map_triples_to_id(path_to_triples=path_to_training_data)"
   ]
  },
  {
   "cell_type": "code",
   "execution_count": 11,
   "metadata": {},
   "outputs": [
    {
     "name": "stderr",
     "output_type": "stream",
     "text": [
      "⚡️ Evaluating triples : 100%|██████████| 59.1k/59.1k [05:23<00:00, 186triple(s)/s]\n"
     ]
    },
    {
     "data": {
      "text/plain": [
       "MetricResults(mean_rank=4094.606752890589, mean_reciprocal_rank=0.017495894770699665, adjusted_mean_rank=0.6028128862380981, adjusted_mean_reciprocal_rank=227.02249145507812, hits_at_k={1: 0.017495894770699665, 3: 0.037082493947960926, 5: 0.047519087200148975, 10: 0.06264495268405816})"
      ]
     },
     "execution_count": 11,
     "metadata": {},
     "output_type": "execute_result"
    }
   ],
   "source": [
    "# Since filtering the triples requires to load all triples into memory, the batch size has to be reduced.\n",
    "evaluator.evaluate(test_triples, batch_size=1024)"
   ]
  },
  {
   "cell_type": "code",
   "execution_count": null,
   "metadata": {},
   "outputs": [],
   "source": []
  }
 ],
 "metadata": {
  "kernelspec": {
   "display_name": "Python 3",
   "language": "python",
   "name": "python3"
  },
  "language_info": {
   "codemirror_mode": {
    "name": "ipython",
    "version": 3
   },
   "file_extension": ".py",
   "mimetype": "text/x-python",
   "name": "python",
   "nbconvert_exporter": "python",
   "pygments_lexer": "ipython3",
   "version": "3.7.3"
  }
 },
 "nbformat": 4,
 "nbformat_minor": 1
}
