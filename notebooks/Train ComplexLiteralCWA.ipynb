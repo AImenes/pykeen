{
 "cells": [
  {
   "cell_type": "code",
   "execution_count": 2,
   "metadata": {},
   "outputs": [],
   "source": [
    "from poem.instance_creation_factories.triples_numeric_literals_factory import TriplesNumericLiteralsFactory\n",
    "from poem.kge_models.kge_models_using_numerical_literals.complex_literal_cwa import ComplexLiteralCWA\n",
    "from poem.preprocessing.triples_preprocessing_utils.basic_triple_utils import create_entity_and_relation_mappings, \\\n",
    "    load_triples\n",
    "from torch import optim\n",
    "import numpy as np\n",
    "from poem.training_loops.cwa_training_loop import CWATrainingLoop"
   ]
  },
  {
   "cell_type": "markdown",
   "metadata": {},
   "source": [
    "**Step 1: Create insances**"
   ]
  },
  {
   "cell_type": "code",
   "execution_count": 3,
   "metadata": {},
   "outputs": [],
   "source": [
    "path_to_training_data = '../tests/resources/test.txt'\n",
    "path_to_literals = '../tests/resources/numerical_literals.txt'"
   ]
  },
  {
   "cell_type": "code",
   "execution_count": 4,
   "metadata": {},
   "outputs": [],
   "source": [
    "training_triples = load_triples(path=path_to_training_data)\n",
    "literals = load_triples(path=path_to_literals)"
   ]
  },
  {
   "cell_type": "code",
   "execution_count": 5,
   "metadata": {},
   "outputs": [],
   "source": [
    "entity_to_id, relation_to_id = create_entity_and_relation_mappings(triples=training_triples)"
   ]
  },
  {
   "cell_type": "code",
   "execution_count": 6,
   "metadata": {},
   "outputs": [],
   "source": [
    "factory = TriplesNumericLiteralsFactory(entity_to_id=entity_to_id,\n",
    "                                        relation_to_id=relation_to_id,\n",
    "                                        numeric_triples=literals)\n",
    "instances = factory.create_cwa_instances(triples=training_triples)"
   ]
  },
  {
   "cell_type": "markdown",
   "metadata": {},
   "source": [
    "**Step 2: Configure KGE model**"
   ]
  },
  {
   "cell_type": "code",
   "execution_count": 7,
   "metadata": {},
   "outputs": [],
   "source": [
    "kge_model = ComplexLiteralCWA(embedding_dim=200,\n",
    "                              num_entities=len(entity_to_id),\n",
    "                              num_relations=len(relation_to_id),\n",
    "                              input_dropout=0.2,\n",
    "                              multimodal_data=instances.multimodal_data)"
   ]
  },
  {
   "cell_type": "markdown",
   "metadata": {},
   "source": [
    "**Step 3: Configure training loop**"
   ]
  },
  {
   "cell_type": "code",
   "execution_count": 8,
   "metadata": {},
   "outputs": [],
   "source": [
    "parameters = filter(lambda p: p.requires_grad, kge_model.parameters())\n",
    "optimizer = optim.Adam(params=parameters)\n",
    "cwa_training_loop = CWATrainingLoop(kge_model=kge_model, optimizer=optimizer)"
   ]
  },
  {
   "cell_type": "markdown",
   "metadata": {},
   "source": [
    "**Step 4: Train KGE model**"
   ]
  },
  {
   "cell_type": "code",
   "execution_count": 9,
   "metadata": {},
   "outputs": [
    {
     "name": "stderr",
     "output_type": "stream",
     "text": [
      "Training epoch: 100%|██████████| 2/2 [06:25<00:00, 189.36s/it]\n"
     ]
    }
   ],
   "source": [
    "fitted_kge_model, losses = cwa_training_loop.train(training_instances=instances,\n",
    "                                                   num_epochs=2,\n",
    "                                                   batch_size=128)"
   ]
  },
  {
   "cell_type": "code",
   "execution_count": 10,
   "metadata": {},
   "outputs": [
    {
     "data": {
      "text/plain": [
       "[4.002053277573112, 2.0248831789942154]"
      ]
     },
     "execution_count": 10,
     "metadata": {},
     "output_type": "execute_result"
    }
   ],
   "source": [
    "losses"
   ]
  },
  {
   "cell_type": "code",
   "execution_count": null,
   "metadata": {},
   "outputs": [],
   "source": []
  }
 ],
 "metadata": {
  "kernelspec": {
   "display_name": "Python 3",
   "language": "python",
   "name": "python3"
  },
  "language_info": {
   "codemirror_mode": {
    "name": "ipython",
    "version": 3
   },
   "file_extension": ".py",
   "mimetype": "text/x-python",
   "name": "python",
   "nbconvert_exporter": "python",
   "pygments_lexer": "ipython3",
   "version": "3.7.3"
  }
 },
 "nbformat": 4,
 "nbformat_minor": 2
}
